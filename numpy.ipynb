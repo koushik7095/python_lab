{
  "nbformat": 4,
  "nbformat_minor": 0,
  "metadata": {
    "colab": {
      "provenance": [],
      "authorship_tag": "ABX9TyPM7cKU9ICoqSG4DgOEHnce",
      "include_colab_link": true
    },
    "kernelspec": {
      "name": "python3",
      "display_name": "Python 3"
    },
    "language_info": {
      "name": "python"
    }
  },
  "cells": [
    {
      "cell_type": "markdown",
      "metadata": {
        "id": "view-in-github",
        "colab_type": "text"
      },
      "source": [
        "<a href=\"https://colab.research.google.com/github/koushik7095/python_lab/blob/main/numpy.ipynb\" target=\"_parent\"><img src=\"https://colab.research.google.com/assets/colab-badge.svg\" alt=\"Open In Colab\"/></a>"
      ]
    },
    {
      "cell_type": "code",
      "source": [
        "6(a)Find the position of missing values in numpy array\n",
        "import numpy as np\n",
        "array=np.array([1,2,np.missing,4,np.missing,6])\n",
        "mising_position=np.where(np.ismissing())"
      ],
      "metadata": {
        "id": "ty2NiP47gYnj"
      },
      "execution_count": null,
      "outputs": []
    },
    {
      "cell_type": "code",
      "execution_count": null,
      "metadata": {
        "colab": {
          "base_uri": "https://localhost:8080/"
        },
        "id": "R6N_rJlHFnM4",
        "outputId": "68a14afc-d86e-49fb-b311-1e4f102c9360"
      },
      "outputs": [
        {
          "output_type": "stream",
          "name": "stdout",
          "text": [
            "[1 2 3 4 5]\n",
            "<class 'numpy.ndarray'>\n"
          ]
        }
      ],
      "source": [
        "#create a numpy array\n",
        "import numpy as np\n",
        "arr = np.array([1, 2, 3, 4, 5])\n",
        "print(arr)\n",
        "print(type(arr))"
      ]
    },
    {
      "cell_type": "code",
      "source": [
        "(a)#1-D Array\n",
        "import numpy as np\n",
        "arr=np.array([1,2,3,4,5])\n",
        "print(arr)"
      ],
      "metadata": {
        "colab": {
          "base_uri": "https://localhost:8080/"
        },
        "id": "dRs-6Ga-OIvZ",
        "outputId": "2cea9290-af10-4ceb-b7bc-30a6cf90279c"
      },
      "execution_count": null,
      "outputs": [
        {
          "output_type": "stream",
          "name": "stdout",
          "text": [
            "[1 2 3 4 5]\n"
          ]
        }
      ]
    },
    {
      "cell_type": "code",
      "source": [
        "(b)#create a boolean array\n",
        "import numpy as np\n",
        "arr=np.array([1,0,1,0,0,1,0])\n",
        "print(f'Original Array:{arr}')\n",
        "bool_arr=np.array(arr,dtype='bool')\n",
        "print(f'boolean array:{bool_arr}')"
      ],
      "metadata": {
        "colab": {
          "base_uri": "https://localhost:8080/"
        },
        "id": "1e7Q1x8aLlQb",
        "outputId": "faac86fc-cf12-4f3b-8626-94a60c576b91"
      },
      "execution_count": null,
      "outputs": [
        {
          "output_type": "stream",
          "name": "stdout",
          "text": [
            "Original Array:[1 0 1 0 0 1 0]\n",
            "boolean array:[ True False  True False False  True False]\n"
          ]
        }
      ]
    },
    {
      "cell_type": "code",
      "source": [
        "(c)#extract items that satisfy a given condition from 1-D array\n",
        "import numpy as np\n",
        "arr=np.array([0,1,2,3,4,5,6,7,8,9])\n",
        "print(arr[arr%2==1])"
      ],
      "metadata": {
        "colab": {
          "base_uri": "https://localhost:8080/"
        },
        "id": "dhDApYgHNWR5",
        "outputId": "5dfce176-db23-4131-b284-a3af6a97d8a9"
      },
      "execution_count": null,
      "outputs": [
        {
          "output_type": "stream",
          "name": "stdout",
          "text": [
            "[1 3 5 7 9]\n"
          ]
        }
      ]
    },
    {
      "cell_type": "code",
      "source": [
        "(d)#replace items that satisfy a condition with another value in numpy array\n",
        "import numpy as np\n",
        "arr=np.array([0,1,2,3,4,5,6,7,8,9])\n",
        "arr[arr%2==1]=-1\n",
        "print(arr)"
      ],
      "metadata": {
        "colab": {
          "base_uri": "https://localhost:8080/"
        },
        "id": "7HUSY0ffO7NJ",
        "outputId": "ecc1e41e-f668-4cbd-98cc-150090885e91"
      },
      "execution_count": null,
      "outputs": [
        {
          "output_type": "stream",
          "name": "stdout",
          "text": [
            "[ 0 -1  2 -1  4 -1  6 -1  8 -1]\n"
          ]
        }
      ]
    },
    {
      "cell_type": "code",
      "source": [
        "(e)#replace items that satisfy a condition without affecting the original array\n",
        "import numpy as np\n",
        "arr1 = np.array([30,23,67,12,8,9,4])\n",
        "arr1[arr1 > 30] = 100\n",
        "print(arr1)"
      ],
      "metadata": {
        "colab": {
          "base_uri": "https://localhost:8080/"
        },
        "id": "U9nNyTpoRNrp",
        "outputId": "6c1506b5-f7c2-4b7e-a306-74996a92b80e"
      },
      "execution_count": null,
      "outputs": [
        {
          "output_type": "stream",
          "name": "stdout",
          "text": [
            "[ 30  23 100  12   8   9   4]\n"
          ]
        }
      ]
    },
    {
      "cell_type": "code",
      "source": [
        "(f)#reshape an array\n",
        "import numpy as np\n",
        "arr = np.array([1,2,3,4,5,6,7,8,9])\n",
        "newarr = arr.reshape(3,3)\n",
        "print(newarr)"
      ],
      "metadata": {
        "colab": {
          "base_uri": "https://localhost:8080/"
        },
        "id": "T1EFTti8Sk3C",
        "outputId": "8ef629f3-eeee-474f-b89d-b56f55802e6b"
      },
      "execution_count": null,
      "outputs": [
        {
          "output_type": "stream",
          "name": "stdout",
          "text": [
            "[[1 2 3]\n",
            " [4 5 6]\n",
            " [7 8 9]]\n"
          ]
        }
      ]
    },
    {
      "cell_type": "code",
      "source": [
        "(g)#extract all numbers between a given range from a numpy array\n",
        "import numpy as np\n",
        "a = np.array([2, 6, 1, 9, 10, 3, 27])\n",
        "print(a[np.where((a >= 5) & (a <= 10))])"
      ],
      "metadata": {
        "colab": {
          "base_uri": "https://localhost:8080/"
        },
        "id": "7jSkQ7hGTm75",
        "outputId": "1ccc1126-c33e-45ad-bef7-8e51a8ae2e9d"
      },
      "execution_count": null,
      "outputs": [
        {
          "output_type": "stream",
          "name": "stdout",
          "text": [
            "[ 6  9 10]\n"
          ]
        }
      ]
    },
    {
      "cell_type": "code",
      "source": [
        "3(a)#stack two arrays vertically\n",
        "import numpy as np\n",
        "arr1 = np.array([1, 2, 3])\n",
        "arr2 = np.array([4, 5, 6])\n",
        "stacked_array = np.vstack((arr1, arr2))\n",
        "print(stacked_array)"
      ],
      "metadata": {
        "colab": {
          "base_uri": "https://localhost:8080/"
        },
        "id": "-YzBL71BOpx1",
        "outputId": "e8b914cc-fcf6-4880-cd9b-1bc887e60dd3"
      },
      "execution_count": null,
      "outputs": [
        {
          "output_type": "stream",
          "name": "stdout",
          "text": [
            "[[1 2 3]\n",
            " [4 5 6]]\n"
          ]
        }
      ]
    },
    {
      "cell_type": "code",
      "source": [
        "(b)#stack two arrays horizontally\n",
        "import numpy as np\n",
        "arr1 = np.array([1, 2, 3])\n",
        "arr2 = np.array([4, 5, 6])\n",
        "stacked_array = np.hstack((arr1, arr2))\n",
        "print(stacked_array)"
      ],
      "metadata": {
        "colab": {
          "base_uri": "https://localhost:8080/"
        },
        "id": "xwG8tf8JP-26",
        "outputId": "fd0cb724-04c5-434b-9bc1-b724e4feab4c"
      },
      "execution_count": null,
      "outputs": [
        {
          "output_type": "stream",
          "name": "stdout",
          "text": [
            "[1 2 3 4 5 6]\n"
          ]
        }
      ]
    },
    {
      "cell_type": "code",
      "source": [
        "(c)#get the common items between two python numpy arrays\n",
        "import numpy as np\n",
        "arr1 = np.array([1, 2, 3, 4, 5])\n",
        "arr2 = np.array([3, 5, 6, 7, 8])\n",
        "common_items = np.intersect1d(arr1, arr2)\n",
        "print(common_items)"
      ],
      "metadata": {
        "colab": {
          "base_uri": "https://localhost:8080/"
        },
        "id": "I7WAxe1PQmPy",
        "outputId": "84288fa9-7684-4384-95fe-b85ba324b59b"
      },
      "execution_count": null,
      "outputs": [
        {
          "output_type": "stream",
          "name": "stdout",
          "text": [
            "[3 5]\n"
          ]
        }
      ]
    },
    {
      "cell_type": "code",
      "source": [
        "#remove from one array those items that exist in another\n",
        "import numpy as np\n",
        "arr1 = np.array([1, 2, 3, 4, 5])\n",
        "arr2 = np.array([3, 5, 6, 7, 8])\n",
        "arr1 = arr1[~np.isin(arr1, arr2)]\n",
        "print(arr1)"
      ],
      "metadata": {
        "colab": {
          "base_uri": "https://localhost:8080/"
        },
        "id": "pwJi9a__RrVa",
        "outputId": "f6db92e9-6f82-4372-acb9-e7d37084f34d"
      },
      "execution_count": null,
      "outputs": [
        {
          "output_type": "stream",
          "name": "stdout",
          "text": [
            "[1 2 4]\n"
          ]
        }
      ]
    },
    {
      "cell_type": "code",
      "source": [
        "#Get the position where elements of two arrays match\n",
        "import numpy as np\n",
        "arr1 = np.array([1, 2, 3, 4, 5])\n",
        "arr2 = np.array([1, 5, 6, 7, 8])\n",
        "common_items = np.intersect1d(arr1, arr2)\n",
        "print(f\"common items: {common_items}\")\n",
        "positions = np.where(arr1==arr2)\n",
        "print(positions)"
      ],
      "metadata": {
        "colab": {
          "base_uri": "https://localhost:8080/"
        },
        "id": "x4JRc4H8SaB6",
        "outputId": "ab628e70-7560-4950-83e8-2726d20ace01"
      },
      "execution_count": null,
      "outputs": [
        {
          "output_type": "stream",
          "name": "stdout",
          "text": [
            "common items: [1 5]\n",
            "(array([0]),)\n"
          ]
        }
      ]
    },
    {
      "cell_type": "code",
      "source": [
        "(a)#convert an array of arrays in to a flat1d array\n",
        "import numpy as np\n",
        "arr = np.array([[1,2,3],[4,5,6]])\n",
        "flat_arr = arr.flatten()\n",
        "print(flat_arr)"
      ],
      "metadata": {
        "colab": {
          "base_uri": "https://localhost:8080/"
        },
        "id": "L963As3ML05w",
        "outputId": "298ff8e5-7dc0-4970-b3ef-3ee91cced63e"
      },
      "execution_count": null,
      "outputs": [
        {
          "output_type": "stream",
          "name": "stdout",
          "text": [
            "[1 2 3 4 5 6]\n"
          ]
        }
      ]
    },
    {
      "cell_type": "code",
      "source": [
        "(b)#swap two columns in a 2d numpy array\n",
        "import numpy as np\n",
        "arr = np.array([[1, 2, 3], [4, 5, 6], [7, 8, 9]])\n",
        "arr[:, [1, 2]] = arr[:, [2, 1]]\n",
        "print(arr)"
      ],
      "metadata": {
        "colab": {
          "base_uri": "https://localhost:8080/"
        },
        "id": "hglFSgwiQozw",
        "outputId": "e81817f6-d0b4-4a11-efc2-7a5d0d65b7aa"
      },
      "execution_count": null,
      "outputs": [
        {
          "output_type": "stream",
          "name": "stdout",
          "text": [
            "[[1 3 2]\n",
            " [4 6 5]\n",
            " [7 9 8]]\n"
          ]
        }
      ]
    },
    {
      "cell_type": "code",
      "source": [
        "(a)#compute the mean,median, standard deviation of a numpy array\n",
        "import numpy as np\n",
        "data = np.array([1, 2, 3, 4, 5])\n",
        "mean = np.mean(data)\n",
        "median = np.median(data)\n",
        "std_dev = np.std(data)\n",
        "print(\"Mean:\", mean)\n",
        "print(\"Median:\", median)\n",
        "print(\"Standard Deviation:\", std_dev)"
      ],
      "metadata": {
        "colab": {
          "base_uri": "https://localhost:8080/"
        },
        "id": "W9TzCLhxTSAQ",
        "outputId": "1ac9e424-ee69-4250-d5f9-c36bed592291"
      },
      "execution_count": null,
      "outputs": [
        {
          "output_type": "stream",
          "name": "stdout",
          "text": [
            "Mean: 3.0\n",
            "Median: 3.0\n",
            "Standard Deviation: 1.4142135623730951\n"
          ]
        }
      ]
    },
    {
      "cell_type": "code",
      "source": [
        "(b)#find the percentile scores of a numpy array\n",
        "import numpy as np\n",
        "data=np.array([1,2,3,4,5,6,7,8,9,10])\n",
        "percentiles = np.percentile(data, [25,50,75])\n",
        "print(\"25th percentile:\", percentiles[0])\n",
        "print(\"50th percentile (median):\", percentiles[1])\n",
        "print(\"75th percentile:\", percentiles[2])"
      ],
      "metadata": {
        "colab": {
          "base_uri": "https://localhost:8080/"
        },
        "id": "8QFWJZqpaVJg",
        "outputId": "3e0cb80b-5055-492c-bca6-827513c33a89"
      },
      "execution_count": null,
      "outputs": [
        {
          "output_type": "stream",
          "name": "stdout",
          "text": [
            "25th percentile: 3.25\n",
            "50th percentile (median): 5.5\n",
            "75th percentile: 7.75\n"
          ]
        }
      ]
    },
    {
      "cell_type": "code",
      "source": [
        "(c)#compute the euclidean distance between two arrays\n",
        "import numpy as np\n",
        "arr1=np.array([1,2,3])\n",
        "arr2=np.array([4,5,6])\n",
        "distance=np.linalg.norm(arr1-arr2)\n",
        "print(f\"Euclidean Distance:{distance}\")"
      ],
      "metadata": {
        "colab": {
          "base_uri": "https://localhost:8080/"
        },
        "id": "p95H3yl_gm84",
        "outputId": "b452c390-16cb-4a5a-b143-8a28ac6e1981"
      },
      "execution_count": null,
      "outputs": [
        {
          "output_type": "stream",
          "name": "stdout",
          "text": [
            "Euclidean Distance:5.196152422706632\n"
          ]
        }
      ]
    },
    {
      "cell_type": "code",
      "source": [
        "#find the correlation between two columns of a numpy array\n",
        "import numpy as np\n",
        "x=np.array([1,2,3,4,5,6,7,8,9,10])\n",
        "y=np.array([7,6,5,4,5,6,7,8,9,10])\n",
        "a=np.corrcoef(x,y)\n",
        "print(a)"
      ],
      "metadata": {
        "colab": {
          "base_uri": "https://localhost:8080/"
        },
        "id": "EWR4u8E4PM7i",
        "outputId": "388e5155-19fe-4f78-de67-e571f52e0e11"
      },
      "execution_count": null,
      "outputs": [
        {
          "output_type": "stream",
          "name": "stdout",
          "text": [
            "[[1.         0.70927291]\n",
            " [0.70927291 1.        ]]\n"
          ]
        }
      ]
    },
    {
      "cell_type": "code",
      "source": [
        "#probabilistic sampling in numpy\n",
        "import numpy as np\n",
        "data = ['apple', 'banana', 'orange', 'grape']\n",
        "probabilities = [0.3, 0.2, 0.4, 0.1]\n",
        "samples = np.random.choice(data, size=5, replace=True, p=probabilities)\n",
        "print(samples)"
      ],
      "metadata": {
        "colab": {
          "base_uri": "https://localhost:8080/"
        },
        "id": "lCpM9xOygJJj",
        "outputId": "bcc2271d-2ced-4789-f0b3-957d5bfa55ec"
      },
      "execution_count": null,
      "outputs": [
        {
          "output_type": "stream",
          "name": "stdout",
          "text": [
            "['apple' 'apple' 'orange' 'apple' 'apple']\n"
          ]
        }
      ]
    },
    {
      "cell_type": "code",
      "source": [
        "import numpy as np\n",
        "arr=np.array([1,2,3,4,5,6,7,8,9,10])\n",
        "window_size=3\n",
        "moving_average=np.convolve(arr,np.ones(window_size)/window_size,'valid')\n",
        "print(moving_average)"
      ],
      "metadata": {
        "colab": {
          "base_uri": "https://localhost:8080/"
        },
        "id": "InI7SQUUb5cm",
        "outputId": "eca80528-ec20-44e2-a65d-079278ba3281"
      },
      "execution_count": null,
      "outputs": [
        {
          "output_type": "stream",
          "name": "stdout",
          "text": [
            "[2. 3. 4. 5. 6. 7. 8. 9.]\n"
          ]
        }
      ]
    },
    {
      "cell_type": "code",
      "source": [
        "#6(a)Find the position of missing values in numpy array\n",
        "import numpy as np\n",
        "array = np.array([1, 2, np.nan, 4, np.nan, 6])\n",
        "missing_positions = np.where(np.isnan(array))\n",
        "print(missing_positions)"
      ],
      "metadata": {
        "colab": {
          "base_uri": "https://localhost:8080/"
        },
        "id": "qIUmKlPBdyXN",
        "outputId": "e35da838-7d97-42f5-a2a5-f174ca2fab20"
      },
      "execution_count": null,
      "outputs": [
        {
          "output_type": "stream",
          "name": "stdout",
          "text": [
            "(array([2, 4]),)\n"
          ]
        }
      ]
    },
    {
      "cell_type": "code",
      "source": [
        "#(b)Drop rows that contain a missing value from a numpy array\n",
        "import numpy as np\n",
        "example_array=np.array([[1,2,3],\n",
        "                       [4,np.nan,6],\n",
        "                       [7,8,9]])\n",
        "rows_without_missing=np.all(np.isfinite(example_array), axis=1)\n",
        "filtered_array=example_array[rows_without_missing]\n",
        "print(filtered_array)"
      ],
      "metadata": {
        "colab": {
          "base_uri": "https://localhost:8080/"
        },
        "id": "OPB2KVFLh66t",
        "outputId": "8bcae1c7-e9bd-4858-f9f4-7fa8f2870d12"
      },
      "execution_count": null,
      "outputs": [
        {
          "output_type": "stream",
          "name": "stdout",
          "text": [
            "[[1. 2. 3.]\n",
            " [7. 8. 9.]]\n"
          ]
        }
      ]
    },
    {
      "cell_type": "code",
      "source": [
        "#(c)replace all missing values with 0 in a numpy array\n",
        "import numpy as np\n",
        "example_array=np.array([1,2,np.nan,4,5,np.nan])\n",
        "example_array[np.isnan(example_array)]=0\n",
        "print(example_array)"
      ],
      "metadata": {
        "colab": {
          "base_uri": "https://localhost:8080/"
        },
        "id": "Llsm6WD0kied",
        "outputId": "bfbc921d-505c-4e78-c11c-d585d2061fc6"
      },
      "execution_count": null,
      "outputs": [
        {
          "output_type": "stream",
          "name": "stdout",
          "text": [
            "[1. 2. 0. 4. 5. 0.]\n"
          ]
        }
      ]
    },
    {
      "cell_type": "code",
      "source": [
        "#(d)Drop all missing values from a numpy array\n",
        "import numpy as np\n",
        "example_array=np.array([1,2,np.nan,4,5,np.nan])\n",
        "filtered_array=example_array[~np.isnan(example_array)]\n",
        "print(filtered_array)"
      ],
      "metadata": {
        "colab": {
          "base_uri": "https://localhost:8080/"
        },
        "id": "zMVkZOXWmGPO",
        "outputId": "28d1d2be-70a6-4d35-95dc-7e2e1c69658a"
      },
      "execution_count": null,
      "outputs": [
        {
          "output_type": "stream",
          "name": "stdout",
          "text": [
            "[1. 2. 4. 5.]\n"
          ]
        }
      ]
    },
    {
      "cell_type": "code",
      "source": [
        "#7(a)normalize an array so that values range exactly between 0 and 1\n",
        "import numpy as np\n",
        "def normalize_array(arr):\n",
        "  min_val=np.min(arr)\n",
        "  max_val=np.max(arr)\n",
        "  normalized_arr=(arr-min_val)/(max_val-min_val)\n",
        "  return normalized_arr\n",
        "example_array=np.array([1,2,3,4,5])\n",
        "normalized_array=normalize_array(example_array)\n",
        "print(normalized_array)"
      ],
      "metadata": {
        "colab": {
          "base_uri": "https://localhost:8080/"
        },
        "id": "7LoxrbevppzH",
        "outputId": "c55c7c9b-c3d1-4ad7-f9c6-e908818188ac"
      },
      "execution_count": null,
      "outputs": [
        {
          "output_type": "stream",
          "name": "stdout",
          "text": [
            "[0.   0.25 0.5  0.75 1.  ]\n"
          ]
        }
      ]
    },
    {
      "cell_type": "code",
      "source": [
        "#(b)compute the min by max for each row for a numpy array 2d\n",
        "import numpy as np\n",
        "array_2d = np.array([[1, 2, 3],\n",
        "                   [4, 5, 6],\n",
        "                   [7, 8, 9]])\n",
        "min_values = np.min(array_2d, axis=1)\n",
        "max_values = np.max(array_2d, axis=1)\n",
        "result = min_values / max_values\n",
        "print(result)"
      ],
      "metadata": {
        "colab": {
          "base_uri": "https://localhost:8080/"
        },
        "id": "oswcCziGrSW2",
        "outputId": "5c416cb8-2191-45cf-f4cd-fdb02ecd6262"
      },
      "execution_count": null,
      "outputs": [
        {
          "output_type": "stream",
          "name": "stdout",
          "text": [
            "[0.33333333 0.66666667 0.77777778]\n"
          ]
        }
      ]
    },
    {
      "cell_type": "code",
      "source": [
        "8(a)#installing pandas\n",
        "!pip install pandas"
      ],
      "metadata": {
        "colab": {
          "base_uri": "https://localhost:8080/"
        },
        "id": "dUmsL1nE3noF",
        "outputId": "79caf300-4a6a-4687-d5f9-32f351bcd7f6"
      },
      "execution_count": 2,
      "outputs": [
        {
          "output_type": "stream",
          "name": "stdout",
          "text": [
            "Requirement already satisfied: pandas in /usr/local/lib/python3.11/dist-packages (2.2.2)\n",
            "Requirement already satisfied: numpy>=1.23.2 in /usr/local/lib/python3.11/dist-packages (from pandas) (2.0.2)\n",
            "Requirement already satisfied: python-dateutil>=2.8.2 in /usr/local/lib/python3.11/dist-packages (from pandas) (2.9.0.post0)\n",
            "Requirement already satisfied: pytz>=2020.1 in /usr/local/lib/python3.11/dist-packages (from pandas) (2025.2)\n",
            "Requirement already satisfied: tzdata>=2022.7 in /usr/local/lib/python3.11/dist-packages (from pandas) (2025.2)\n",
            "Requirement already satisfied: six>=1.5 in /usr/local/lib/python3.11/dist-packages (from python-dateutil>=2.8.2->pandas) (1.17.0)\n"
          ]
        }
      ]
    },
    {
      "cell_type": "code",
      "source": [
        "#import pandas and check the version\n",
        "import pandas as pd\n",
        "print(pd.__version__)"
      ],
      "metadata": {
        "colab": {
          "base_uri": "https://localhost:8080/"
        },
        "id": "ddKuwaqa4g4N",
        "outputId": "3da01456-1057-49cd-ed75-5ea3ddc59897"
      },
      "execution_count": 3,
      "outputs": [
        {
          "output_type": "stream",
          "name": "stdout",
          "text": [
            "2.2.2\n"
          ]
        }
      ]
    },
    {
      "cell_type": "code",
      "source": [
        "#create a series from a list,numpy array and dict\n",
        "import pandas as pd\n",
        "import numpy as np\n",
        "print(pd.Series([1, 2, 3]))\n",
        "print(pd.Series(np.array([4, 5, 6])))\n",
        "print(pd.Series({'a': 7, 'b': 8, 'c': 9}))"
      ],
      "metadata": {
        "colab": {
          "base_uri": "https://localhost:8080/"
        },
        "id": "5I2rr07r424l",
        "outputId": "56f2bd28-8da0-41de-fc84-04f49986de2e"
      },
      "execution_count": 4,
      "outputs": [
        {
          "output_type": "stream",
          "name": "stdout",
          "text": [
            "0    1\n",
            "1    2\n",
            "2    3\n",
            "dtype: int64\n",
            "0    4\n",
            "1    5\n",
            "2    6\n",
            "dtype: int64\n",
            "a    7\n",
            "b    8\n",
            "c    9\n",
            "dtype: int64\n"
          ]
        }
      ]
    },
    {
      "cell_type": "code",
      "source": [
        "#convert the index of a series in to a column of a data frame\n",
        "import pandas as pd\n",
        "s=pd.Series([1,2,3,4,5])\n",
        "df=s.to_frame().reset_index()\n",
        "print(df)"
      ],
      "metadata": {
        "colab": {
          "base_uri": "https://localhost:8080/"
        },
        "id": "5lrxbfnl567F",
        "outputId": "181f31da-7ad6-4c38-9fce-edae51f0a2fd"
      },
      "execution_count": 6,
      "outputs": [
        {
          "output_type": "stream",
          "name": "stdout",
          "text": [
            "   index  0\n",
            "0      0  1\n",
            "1      1  2\n",
            "2      2  3\n",
            "3      3  4\n",
            "4      4  5\n"
          ]
        }
      ]
    },
    {
      "cell_type": "code",
      "source": [
        "#combine many series to form a data frame\n",
        "import pandas as pd\n",
        "s1=pd.Series([1,2,3,4,5])\n",
        "s2=pd.Series([6,7,8,9,10])\n",
        "df=pd.concat([s1,s2],axis=1)\n",
        "print(s1)\n",
        "print(s2)"
      ],
      "metadata": {
        "colab": {
          "base_uri": "https://localhost:8080/"
        },
        "id": "5p5bZEqJ7lAN",
        "outputId": "070b33f7-70e3-4794-f7e5-90a4132c1380"
      },
      "execution_count": 7,
      "outputs": [
        {
          "output_type": "stream",
          "name": "stdout",
          "text": [
            "0    1\n",
            "1    2\n",
            "2    3\n",
            "3    4\n",
            "4    5\n",
            "dtype: int64\n",
            "0     6\n",
            "1     7\n",
            "2     8\n",
            "3     9\n",
            "4    10\n",
            "dtype: int64\n"
          ]
        }
      ]
    },
    {
      "cell_type": "code",
      "source": [
        "#9(a)get the minimum,25thpercentile,median,75th,and max of a numeric series\n",
        "import pandas as pd\n",
        "s = pd.Series([1, 2, 3, 4, 5, 6, 7, 8, 9, 10])\n",
        "print(s.describe(percentiles=[.25, .5, .75])[['min', '25%', '50%', '75%', 'max']])"
      ],
      "metadata": {
        "colab": {
          "base_uri": "https://localhost:8080/"
        },
        "id": "w54uz07d83K9",
        "outputId": "cce8ea69-0dd3-486a-d8f2-76f4f5323024"
      },
      "execution_count": 10,
      "outputs": [
        {
          "output_type": "stream",
          "name": "stdout",
          "text": [
            "min     1.00\n",
            "25%     3.25\n",
            "50%     5.50\n",
            "75%     7.75\n",
            "max    10.00\n",
            "dtype: float64\n"
          ]
        }
      ]
    },
    {
      "cell_type": "code",
      "source": [
        "#(b)get frequency counts of unique items of a series\n",
        "import pandas as pd\n",
        "data=[1,2,2,3,3,3,4,4,4,4]\n",
        "s=pd.Series(data)\n",
        "frequency_counts=s.value_counts()\n",
        "print(frequency_counts)"
      ],
      "metadata": {
        "colab": {
          "base_uri": "https://localhost:8080/"
        },
        "id": "MsqO4ZRe-zj9",
        "outputId": "d47c4573-b8df-4e8f-d4b8-9726cb146413"
      },
      "execution_count": 12,
      "outputs": [
        {
          "output_type": "stream",
          "name": "stdout",
          "text": [
            "4    4\n",
            "3    3\n",
            "2    2\n",
            "1    1\n",
            "Name: count, dtype: int64\n"
          ]
        }
      ]
    },
    {
      "cell_type": "code",
      "source": [
        "#(c)bina numeric series to 10 groups of equal size\n",
        "import pandas as pd\n",
        "data=[1,2,3,4,5,6,7,8,9,10]\n",
        "s=pd.Series(data)\n",
        "groups=pd.qcut(s,q=10)\n",
        "print(groups)"
      ],
      "metadata": {
        "colab": {
          "base_uri": "https://localhost:8080/"
        },
        "id": "TF5V2gcAAaz1",
        "outputId": "f3abe3f0-8dd1-4b91-e41a-93970e1124d7"
      },
      "execution_count": 13,
      "outputs": [
        {
          "output_type": "stream",
          "name": "stdout",
          "text": [
            "0    (0.999, 1.9]\n",
            "1      (1.9, 2.8]\n",
            "2      (2.8, 3.7]\n",
            "3      (3.7, 4.6]\n",
            "4      (4.6, 5.5]\n",
            "5      (5.5, 6.4]\n",
            "6      (6.4, 7.3]\n",
            "7      (7.3, 8.2]\n",
            "8      (8.2, 9.1]\n",
            "9     (9.1, 10.0]\n",
            "dtype: category\n",
            "Categories (10, interval[float64, right]): [(0.999, 1.9] < (1.9, 2.8] < (2.8, 3.7] < (3.7, 4.6] < ... <\n",
            "                                            (6.4, 7.3] < (7.3, 8.2] < (8.2, 9.1] < (9.1, 10.0]]\n"
          ]
        }
      ]
    },
    {
      "cell_type": "code",
      "source": [
        "#(d)compute the euclidean distance between two series\n",
        "import pandas as pd\n",
        "import numpy as np\n",
        "s1=pd.Series([1,2,3])\n",
        "s2=pd.Series([4,5,6])\n",
        "distance=np.linalg.norm(s1-s2)\n",
        "print(f\"euclidean distance:{distance}\")"
      ],
      "metadata": {
        "colab": {
          "base_uri": "https://localhost:8080/"
        },
        "id": "fOz9EHswBBI1",
        "outputId": "aa1f1674-ff92-4701-e71d-ec77246b6844"
      },
      "execution_count": 14,
      "outputs": [
        {
          "output_type": "stream",
          "name": "stdout",
          "text": [
            "euclidean distance:5.196152422706632\n"
          ]
        }
      ]
    },
    {
      "cell_type": "code",
      "source": [
        "#10(a)normalize all columns in a data frame\n",
        "import pandas as pd\n",
        "data={'A':[1,2,3],'B':[4,5,6],'C':[7,8,9]}\n",
        "df=pd.DataFrame(data)\n",
        "df_normalized=(df-df.min())/(df.max()-df.min())\n",
        "print(df_normalized)"
      ],
      "metadata": {
        "colab": {
          "base_uri": "https://localhost:8080/"
        },
        "id": "0hOvt6dGCEI1",
        "outputId": "fb5c123a-c536-4689-b526-6361efc3da1b"
      },
      "execution_count": 15,
      "outputs": [
        {
          "output_type": "stream",
          "name": "stdout",
          "text": [
            "     A    B    C\n",
            "0  0.0  0.0  0.0\n",
            "1  0.5  0.5  0.5\n",
            "2  1.0  1.0  1.0\n"
          ]
        }
      ]
    },
    {
      "cell_type": "code",
      "source": [
        "#(b)compute the correlation of each row with the succeed in grow\n",
        "import pandas as pd\n",
        "import numpy as np\n",
        "data = {'col1': [1, 2, 3, 4, 5],\n",
        "        'col2': [5, 4, 3, 2, 1],\n",
        "        'col3': [2, 3, 4, 5, 6]}\n",
        "df = pd.DataFrame(data)\n",
        "correlation_row_succeeding_row = df.corrwith(df.shift(-1), axis=1)\n",
        "print(correlation_row_succeeding_row)"
      ],
      "metadata": {
        "colab": {
          "base_uri": "https://localhost:8080/"
        },
        "id": "wqHlqfQqEbEd",
        "outputId": "ccb05651-cab2-4e8c-e100-a120d7b42885"
      },
      "execution_count": 16,
      "outputs": [
        {
          "output_type": "stream",
          "name": "stdout",
          "text": [
            "0    0.960769\n",
            "1    0.000000\n",
            "2    0.755929\n",
            "3    0.989743\n",
            "4         NaN\n",
            "dtype: float64\n"
          ]
        }
      ]
    },
    {
      "cell_type": "code",
      "source": [
        "#(c)compute the autocorrelations of a numeric series\n",
        "import pandas as pd\n",
        "data=[1,2,3,4,5,6,7,8,9,10]\n",
        "s=pd.Series(data)\n",
        "autocorrelation= s.autocorr()\n",
        "print(autocorrelation)"
      ],
      "metadata": {
        "colab": {
          "base_uri": "https://localhost:8080/"
        },
        "id": "n13yyqcVFXQF",
        "outputId": "df33898e-1570-4706-da87-9de89e10b2ab"
      },
      "execution_count": 18,
      "outputs": [
        {
          "output_type": "stream",
          "name": "stdout",
          "text": [
            "1.0\n"
          ]
        }
      ]
    }
  ]
}